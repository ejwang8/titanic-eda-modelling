{
 "cells": [
  {
   "cell_type": "markdown",
   "id": "8e4f75e1",
   "metadata": {},
   "source": [
    "## How can we predict survival on the Titanic?\n",
    "\n",
    "to do list for self\n",
    "- 1 apply fcc principles\n",
    "- 2 apply [https://www.linkedin.com/pulse/what-i-learned-analyzing-famous-titanic-dateset-murilo-gustineli/]\n",
    "- 3 apply [https://python.plainenglish.io/revitalizing-cyclistic-bike-share-program-an-in-depth-data-exploration-556b52512bf8] - diff dataset but still\n",
    "- 4 apply others? [https://www.kaggle.com/code/startupsci/titanic-data-science-solutions]\n",
    "\n",
    "### Guiding Questions\n",
    "- Which features are correlated with survival?\n",
    "- Can we accurately predict survival with a simple model?\n",
    "- Which model performs best on this dataset?\n"
   ]
  },
  {
   "cell_type": "markdown",
   "id": "28151927",
   "metadata": {},
   "source": [
    "### Dataset description\n",
    "xyz\n"
   ]
  },
  {
   "cell_type": "code",
   "execution_count": 2,
   "id": "1e36d486",
   "metadata": {},
   "outputs": [],
   "source": [
    "# import dataset and look at it\n",
    "# describe the features"
   ]
  },
  {
   "cell_type": "markdown",
   "id": "7c86ebf0",
   "metadata": {},
   "source": [
    "## Data Cleaning\n",
    "\n",
    "- Inspect nulls\n",
    "- Drop/recode columns\n",
    "- Feature engineering (like 'is_alone', deck extraction, etc.)"
   ]
  },
  {
   "cell_type": "code",
   "execution_count": null,
   "id": "95c70564",
   "metadata": {},
   "outputs": [],
   "source": [
    "# clean as needed\n",
    "# maybe remove outliers?"
   ]
  },
  {
   "cell_type": "markdown",
   "id": "4218b0b0",
   "metadata": {},
   "source": [
    "### EDA\n",
    "\n",
    "- Visualize survival by class, sex, age, family, fare\n",
    "- Show correlations (heatmap, groupby stats)\n",
    "- Write observations inline"
   ]
  },
  {
   "cell_type": "code",
   "execution_count": 3,
   "id": "5e3d236d",
   "metadata": {},
   "outputs": [],
   "source": [
    "# visualizeeee"
   ]
  },
  {
   "cell_type": "markdown",
   "id": "595c2f1f",
   "metadata": {},
   "source": [
    "### Modeling\n",
    "\n",
    "- 5 models: Logistic Regression, Decision Tree, Random Forest, KNN, Naive Bayes\n",
    "- Optionally: SVM, Gradient Boosting, or Perceptron\n",
    "- Compare accuracy, precision, recall, AUC\n",
    "- Pick a best model + explain why"
   ]
  },
  {
   "cell_type": "markdown",
   "id": "dc2b8388",
   "metadata": {},
   "source": [
    "### 1) Logistic Regression model\n",
    "\n",
    "- description high level w figs (read articles / watch vids)\n",
    "- pros and cons in general and for this dataset\n",
    "\n",
    "[writeup]"
   ]
  },
  {
   "cell_type": "code",
   "execution_count": null,
   "id": "c997f5f0",
   "metadata": {},
   "outputs": [],
   "source": [
    "# log reg code"
   ]
  },
  {
   "cell_type": "markdown",
   "id": "9982a54e",
   "metadata": {},
   "source": [
    "### 2) Decision Tree model\n",
    "\n",
    "- description high level w figs (read articles / watch vids)\n",
    "- pros and cons in general and for this dataset\n",
    "\n",
    "[writeup]"
   ]
  },
  {
   "cell_type": "code",
   "execution_count": null,
   "id": "cbbba4ac",
   "metadata": {},
   "outputs": [],
   "source": [
    "# decision tree code"
   ]
  },
  {
   "cell_type": "markdown",
   "id": "971f9e50",
   "metadata": {},
   "source": [
    "### 3) Random Forest\n",
    "\n",
    "- description high level w figs (read articles / watch vids)\n",
    "- pros and cons in general and for this dataset\n",
    "\n",
    "[writeup]"
   ]
  },
  {
   "cell_type": "code",
   "execution_count": null,
   "id": "4624e3e1",
   "metadata": {},
   "outputs": [],
   "source": [
    "# random forest code"
   ]
  },
  {
   "cell_type": "markdown",
   "id": "5fd81cc5",
   "metadata": {},
   "source": [
    "### 4) KNN model\n",
    "\n",
    "- description high level w figs (read articles / watch vids)\n",
    "- pros and cons in general and for this dataset\n",
    "\n",
    "[writeup]"
   ]
  },
  {
   "cell_type": "code",
   "execution_count": null,
   "id": "0b375ed8",
   "metadata": {},
   "outputs": [],
   "source": [
    "# KNN code"
   ]
  },
  {
   "cell_type": "markdown",
   "id": "0d7b42ca",
   "metadata": {},
   "source": [
    "### 5) Naive Bayes model\n",
    "\n",
    "- description high level w figs (read articles / watch vids)\n",
    "- pros and cons in general and for this dataset\n",
    "\n",
    "[writeup]"
   ]
  },
  {
   "cell_type": "code",
   "execution_count": 6,
   "id": "9e33f199",
   "metadata": {},
   "outputs": [],
   "source": [
    "# Naive Bayes code"
   ]
  },
  {
   "cell_type": "markdown",
   "id": "4e64785f",
   "metadata": {},
   "source": [
    "### 6) SVM model\n",
    "\n",
    "- description high level w figs (read articles / watch vids)\n",
    "- pros and cons in general and for this dataset\n",
    "\n",
    "[writeup]"
   ]
  },
  {
   "cell_type": "code",
   "execution_count": null,
   "id": "e9f8594a",
   "metadata": {},
   "outputs": [],
   "source": [
    "# SVM code"
   ]
  },
  {
   "cell_type": "markdown",
   "id": "b7b1d1c8",
   "metadata": {},
   "source": [
    "### 7) Gradient Boosting model\n",
    "\n",
    "- description high level w figs (read articles / watch vids)\n",
    "- pros and cons in general and for this dataset\n",
    "\n",
    "[writeup]"
   ]
  },
  {
   "cell_type": "code",
   "execution_count": null,
   "id": "088b03dd",
   "metadata": {},
   "outputs": [],
   "source": [
    "# Gradient Boosting code"
   ]
  },
  {
   "cell_type": "markdown",
   "id": "13f315ad",
   "metadata": {},
   "source": [
    "### 8) Perceptron model\n",
    "\n",
    "- description high level w figs (read articles / watch vids)\n",
    "- pros and cons in general and for this dataset\n",
    "\n",
    "[writeup]"
   ]
  },
  {
   "cell_type": "code",
   "execution_count": null,
   "id": "82e02a66",
   "metadata": {},
   "outputs": [],
   "source": [
    "# Perceptron code"
   ]
  },
  {
   "cell_type": "markdown",
   "id": "3698dc7e",
   "metadata": {},
   "source": [
    "### Final Evaluation\n",
    "\n",
    "- Confusion matrix, F1, ROC curve\n",
    "- Feature importance chart"
   ]
  },
  {
   "cell_type": "code",
   "execution_count": 5,
   "id": "439cc4fd",
   "metadata": {},
   "outputs": [],
   "source": [
    "# final eval"
   ]
  },
  {
   "cell_type": "markdown",
   "id": "421a0f75",
   "metadata": {},
   "source": [
    "[write up too]"
   ]
  },
  {
   "cell_type": "markdown",
   "id": "f69074a5",
   "metadata": {},
   "source": [
    "### Wrap-up\n",
    "- Final thoughts, takeaways\n",
    "- What you’d do next with more time/data\n",
    "- References or inspiration sources"
   ]
  },
  {
   "cell_type": "markdown",
   "id": "253721e6",
   "metadata": {},
   "source": [
    "[writeup]"
   ]
  },
  {
   "cell_type": "markdown",
   "id": "5a44ce6e",
   "metadata": {},
   "source": []
  }
 ],
 "metadata": {
  "kernelspec": {
   "display_name": "base",
   "language": "python",
   "name": "python3"
  },
  "language_info": {
   "codemirror_mode": {
    "name": "ipython",
    "version": 3
   },
   "file_extension": ".py",
   "mimetype": "text/x-python",
   "name": "python",
   "nbconvert_exporter": "python",
   "pygments_lexer": "ipython3",
   "version": "3.10.6"
  }
 },
 "nbformat": 4,
 "nbformat_minor": 5
}
