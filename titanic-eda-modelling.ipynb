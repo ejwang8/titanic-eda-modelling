{
 "cells": [
  {
   "cell_type": "markdown",
   "id": "8e4f75e1",
   "metadata": {},
   "source": [
    "## How can we predict survival on the Titanic?\n",
    "\n",
    "to do list for self\n",
    "- 1 apply fcc principles\n",
    "- 2 apply [https://www.linkedin.com/pulse/what-i-learned-analyzing-famous-titanic-dateset-murilo-gustineli/]\n",
    "- 3 apply [https://python.plainenglish.io/revitalizing-cyclistic-bike-share-program-an-in-depth-data-exploration-556b52512bf8] - diff dataset but still\n",
    "- 4 apply others? [https://www.kaggle.com/code/startupsci/titanic-data-science-solutions]\n",
    "\n",
    "### Guiding Questions\n",
    "- Which features are correlated with survival?\n",
    "- Can we accurately predict survival with a simple model?\n",
    "- Which model performs best on this dataset?\n"
   ]
  },
  {
   "cell_type": "code",
   "execution_count": 8,
   "id": "1e36d486",
   "metadata": {},
   "outputs": [],
   "source": [
    "# import statements\n",
    "import pandas as pd\n"
   ]
  },
  {
   "cell_type": "code",
   "execution_count": 19,
   "id": "6f607ed7",
   "metadata": {},
   "outputs": [
    {
     "name": "stdout",
     "output_type": "stream",
     "text": [
      "Passengers in train set: 891\n",
      "Passengers in test set: 418\n"
     ]
    },
    {
     "data": {
      "text/html": [
       "<div>\n",
       "<style scoped>\n",
       "    .dataframe tbody tr th:only-of-type {\n",
       "        vertical-align: middle;\n",
       "    }\n",
       "\n",
       "    .dataframe tbody tr th {\n",
       "        vertical-align: top;\n",
       "    }\n",
       "\n",
       "    .dataframe thead th {\n",
       "        text-align: right;\n",
       "    }\n",
       "</style>\n",
       "<table border=\"1\" class=\"dataframe\">\n",
       "  <thead>\n",
       "    <tr style=\"text-align: right;\">\n",
       "      <th></th>\n",
       "      <th>PassengerId</th>\n",
       "      <th>Survived</th>\n",
       "      <th>Pclass</th>\n",
       "      <th>Name</th>\n",
       "      <th>Sex</th>\n",
       "      <th>Age</th>\n",
       "      <th>SibSp</th>\n",
       "      <th>Parch</th>\n",
       "      <th>Ticket</th>\n",
       "      <th>Fare</th>\n",
       "      <th>Cabin</th>\n",
       "      <th>Embarked</th>\n",
       "    </tr>\n",
       "  </thead>\n",
       "  <tbody>\n",
       "    <tr>\n",
       "      <th>0</th>\n",
       "      <td>1</td>\n",
       "      <td>0</td>\n",
       "      <td>3</td>\n",
       "      <td>Braund, Mr. Owen Harris</td>\n",
       "      <td>male</td>\n",
       "      <td>22.0</td>\n",
       "      <td>1</td>\n",
       "      <td>0</td>\n",
       "      <td>A/5 21171</td>\n",
       "      <td>7.2500</td>\n",
       "      <td>NaN</td>\n",
       "      <td>S</td>\n",
       "    </tr>\n",
       "    <tr>\n",
       "      <th>1</th>\n",
       "      <td>2</td>\n",
       "      <td>1</td>\n",
       "      <td>1</td>\n",
       "      <td>Cumings, Mrs. John Bradley (Florence Briggs Th...</td>\n",
       "      <td>female</td>\n",
       "      <td>38.0</td>\n",
       "      <td>1</td>\n",
       "      <td>0</td>\n",
       "      <td>PC 17599</td>\n",
       "      <td>71.2833</td>\n",
       "      <td>C85</td>\n",
       "      <td>C</td>\n",
       "    </tr>\n",
       "    <tr>\n",
       "      <th>2</th>\n",
       "      <td>3</td>\n",
       "      <td>1</td>\n",
       "      <td>3</td>\n",
       "      <td>Heikkinen, Miss. Laina</td>\n",
       "      <td>female</td>\n",
       "      <td>26.0</td>\n",
       "      <td>0</td>\n",
       "      <td>0</td>\n",
       "      <td>STON/O2. 3101282</td>\n",
       "      <td>7.9250</td>\n",
       "      <td>NaN</td>\n",
       "      <td>S</td>\n",
       "    </tr>\n",
       "    <tr>\n",
       "      <th>3</th>\n",
       "      <td>4</td>\n",
       "      <td>1</td>\n",
       "      <td>1</td>\n",
       "      <td>Futrelle, Mrs. Jacques Heath (Lily May Peel)</td>\n",
       "      <td>female</td>\n",
       "      <td>35.0</td>\n",
       "      <td>1</td>\n",
       "      <td>0</td>\n",
       "      <td>113803</td>\n",
       "      <td>53.1000</td>\n",
       "      <td>C123</td>\n",
       "      <td>S</td>\n",
       "    </tr>\n",
       "    <tr>\n",
       "      <th>4</th>\n",
       "      <td>5</td>\n",
       "      <td>0</td>\n",
       "      <td>3</td>\n",
       "      <td>Allen, Mr. William Henry</td>\n",
       "      <td>male</td>\n",
       "      <td>35.0</td>\n",
       "      <td>0</td>\n",
       "      <td>0</td>\n",
       "      <td>373450</td>\n",
       "      <td>8.0500</td>\n",
       "      <td>NaN</td>\n",
       "      <td>S</td>\n",
       "    </tr>\n",
       "    <tr>\n",
       "      <th>...</th>\n",
       "      <td>...</td>\n",
       "      <td>...</td>\n",
       "      <td>...</td>\n",
       "      <td>...</td>\n",
       "      <td>...</td>\n",
       "      <td>...</td>\n",
       "      <td>...</td>\n",
       "      <td>...</td>\n",
       "      <td>...</td>\n",
       "      <td>...</td>\n",
       "      <td>...</td>\n",
       "      <td>...</td>\n",
       "    </tr>\n",
       "    <tr>\n",
       "      <th>886</th>\n",
       "      <td>887</td>\n",
       "      <td>0</td>\n",
       "      <td>2</td>\n",
       "      <td>Montvila, Rev. Juozas</td>\n",
       "      <td>male</td>\n",
       "      <td>27.0</td>\n",
       "      <td>0</td>\n",
       "      <td>0</td>\n",
       "      <td>211536</td>\n",
       "      <td>13.0000</td>\n",
       "      <td>NaN</td>\n",
       "      <td>S</td>\n",
       "    </tr>\n",
       "    <tr>\n",
       "      <th>887</th>\n",
       "      <td>888</td>\n",
       "      <td>1</td>\n",
       "      <td>1</td>\n",
       "      <td>Graham, Miss. Margaret Edith</td>\n",
       "      <td>female</td>\n",
       "      <td>19.0</td>\n",
       "      <td>0</td>\n",
       "      <td>0</td>\n",
       "      <td>112053</td>\n",
       "      <td>30.0000</td>\n",
       "      <td>B42</td>\n",
       "      <td>S</td>\n",
       "    </tr>\n",
       "    <tr>\n",
       "      <th>888</th>\n",
       "      <td>889</td>\n",
       "      <td>0</td>\n",
       "      <td>3</td>\n",
       "      <td>Johnston, Miss. Catherine Helen \"Carrie\"</td>\n",
       "      <td>female</td>\n",
       "      <td>NaN</td>\n",
       "      <td>1</td>\n",
       "      <td>2</td>\n",
       "      <td>W./C. 6607</td>\n",
       "      <td>23.4500</td>\n",
       "      <td>NaN</td>\n",
       "      <td>S</td>\n",
       "    </tr>\n",
       "    <tr>\n",
       "      <th>889</th>\n",
       "      <td>890</td>\n",
       "      <td>1</td>\n",
       "      <td>1</td>\n",
       "      <td>Behr, Mr. Karl Howell</td>\n",
       "      <td>male</td>\n",
       "      <td>26.0</td>\n",
       "      <td>0</td>\n",
       "      <td>0</td>\n",
       "      <td>111369</td>\n",
       "      <td>30.0000</td>\n",
       "      <td>C148</td>\n",
       "      <td>C</td>\n",
       "    </tr>\n",
       "    <tr>\n",
       "      <th>890</th>\n",
       "      <td>891</td>\n",
       "      <td>0</td>\n",
       "      <td>3</td>\n",
       "      <td>Dooley, Mr. Patrick</td>\n",
       "      <td>male</td>\n",
       "      <td>32.0</td>\n",
       "      <td>0</td>\n",
       "      <td>0</td>\n",
       "      <td>370376</td>\n",
       "      <td>7.7500</td>\n",
       "      <td>NaN</td>\n",
       "      <td>Q</td>\n",
       "    </tr>\n",
       "  </tbody>\n",
       "</table>\n",
       "<p>891 rows × 12 columns</p>\n",
       "</div>"
      ],
      "text/plain": [
       "     PassengerId  Survived  Pclass  \\\n",
       "0              1         0       3   \n",
       "1              2         1       1   \n",
       "2              3         1       3   \n",
       "3              4         1       1   \n",
       "4              5         0       3   \n",
       "..           ...       ...     ...   \n",
       "886          887         0       2   \n",
       "887          888         1       1   \n",
       "888          889         0       3   \n",
       "889          890         1       1   \n",
       "890          891         0       3   \n",
       "\n",
       "                                                  Name     Sex   Age  SibSp  \\\n",
       "0                              Braund, Mr. Owen Harris    male  22.0      1   \n",
       "1    Cumings, Mrs. John Bradley (Florence Briggs Th...  female  38.0      1   \n",
       "2                               Heikkinen, Miss. Laina  female  26.0      0   \n",
       "3         Futrelle, Mrs. Jacques Heath (Lily May Peel)  female  35.0      1   \n",
       "4                             Allen, Mr. William Henry    male  35.0      0   \n",
       "..                                                 ...     ...   ...    ...   \n",
       "886                              Montvila, Rev. Juozas    male  27.0      0   \n",
       "887                       Graham, Miss. Margaret Edith  female  19.0      0   \n",
       "888           Johnston, Miss. Catherine Helen \"Carrie\"  female   NaN      1   \n",
       "889                              Behr, Mr. Karl Howell    male  26.0      0   \n",
       "890                                Dooley, Mr. Patrick    male  32.0      0   \n",
       "\n",
       "     Parch            Ticket     Fare Cabin Embarked  \n",
       "0        0         A/5 21171   7.2500   NaN        S  \n",
       "1        0          PC 17599  71.2833   C85        C  \n",
       "2        0  STON/O2. 3101282   7.9250   NaN        S  \n",
       "3        0            113803  53.1000  C123        S  \n",
       "4        0            373450   8.0500   NaN        S  \n",
       "..     ...               ...      ...   ...      ...  \n",
       "886      0            211536  13.0000   NaN        S  \n",
       "887      0            112053  30.0000   B42        S  \n",
       "888      2        W./C. 6607  23.4500   NaN        S  \n",
       "889      0            111369  30.0000  C148        C  \n",
       "890      0            370376   7.7500   NaN        Q  \n",
       "\n",
       "[891 rows x 12 columns]"
      ]
     },
     "execution_count": 19,
     "metadata": {},
     "output_type": "execute_result"
    }
   ],
   "source": [
    "# import train dataset and look at it (ignore test until testing model prediction accuracy at end)\n",
    "train_df = pd.read_csv('titanic/train.csv')\n",
    "print(f\"Passengers in train set: {train_df.shape[0]}\")\n",
    "print(f\"Passengers in test set: {pd.read_csv('titanic/test.csv').shape[0]}\")\n",
    "df"
   ]
  },
  {
   "cell_type": "markdown",
   "id": "a024c3ce",
   "metadata": {},
   "source": [
    "### Dataset description\n",
    "\n",
    "Columns = description\n",
    "\n",
    "- PassengerId = unique passenger id (type)\n",
    "- Survived = binary value of survival outcome; 0 for died; 1 for survived\n",
    "- Pclass\n",
    "- Name = string value for name\n",
    "- Sex = string(? interpreted) value of either \"male\" or \"female\"\n",
    "- Age = (type) passenger's age at time of ??\n",
    "- SibSp\n",
    "- Parch\n",
    "- Ticket\n",
    "- Fare = float(?0) value with ticket price (e.g. 7.25)\n",
    "- Cabin = cabin identifer of format XXX (e.g. C85??)\n",
    "- Embarked = S/C/Q???\n"
   ]
  },
  {
   "cell_type": "markdown",
   "id": "7c86ebf0",
   "metadata": {},
   "source": [
    "### Data Cleaning\n",
    "\n",
    "- describe data\n",
    "- Of the estimated 2,224 passengers and crew aboard, approximately 1,500 died (estimates vary) [https://en.wikipedia.org/wiki/Titanic]\n",
    "- 891 entries in the training set\n",
    "- 418 in the test set\n",
    "- 1309 total meaning a rougly 7:3 split for train:test\n",
    "\n",
    "x\n",
    "\n",
    "- Inspect nulls\n",
    "- Drop/recode columns\n",
    "- Feature engineering (like 'is_alone', deck extraction, etc.)"
   ]
  },
  {
   "cell_type": "code",
   "execution_count": null,
   "id": "95c70564",
   "metadata": {},
   "outputs": [],
   "source": [
    "# clean as needed\n",
    "# maybe remove outliers?"
   ]
  },
  {
   "cell_type": "markdown",
   "id": "4218b0b0",
   "metadata": {},
   "source": [
    "### EDA\n",
    "\n",
    "- Visualize survival by class, sex, age, family, fare\n",
    "- Show correlations (heatmap, groupby stats)\n",
    "- Write observations inline"
   ]
  },
  {
   "cell_type": "code",
   "execution_count": 3,
   "id": "5e3d236d",
   "metadata": {},
   "outputs": [],
   "source": [
    "# visualizeeee"
   ]
  },
  {
   "cell_type": "markdown",
   "id": "595c2f1f",
   "metadata": {},
   "source": [
    "### Modeling\n",
    "\n",
    "- 5 models: Logistic Regression, Decision Tree, Random Forest, KNN, Naive Bayes\n",
    "- Optionally: SVM, Gradient Boosting, or Perceptron\n",
    "- Compare accuracy, precision, recall, AUC\n",
    "- Pick a best model + explain why"
   ]
  },
  {
   "cell_type": "markdown",
   "id": "dc2b8388",
   "metadata": {},
   "source": [
    "### 1) Logistic Regression model\n",
    "\n",
    "- description high level w figs (read articles / watch vids)\n",
    "- pros and cons in general and for this dataset\n",
    "\n",
    "[writeup]"
   ]
  },
  {
   "cell_type": "code",
   "execution_count": null,
   "id": "c997f5f0",
   "metadata": {},
   "outputs": [],
   "source": [
    "# log reg code"
   ]
  },
  {
   "cell_type": "markdown",
   "id": "9982a54e",
   "metadata": {},
   "source": [
    "### 2) Decision Tree model\n",
    "\n",
    "- description high level w figs (read articles / watch vids)\n",
    "- pros and cons in general and for this dataset\n",
    "\n",
    "[writeup]"
   ]
  },
  {
   "cell_type": "code",
   "execution_count": null,
   "id": "cbbba4ac",
   "metadata": {},
   "outputs": [],
   "source": [
    "# decision tree code"
   ]
  },
  {
   "cell_type": "markdown",
   "id": "971f9e50",
   "metadata": {},
   "source": [
    "### 3) Random Forest\n",
    "\n",
    "- description high level w figs (read articles / watch vids)\n",
    "- pros and cons in general and for this dataset\n",
    "\n",
    "[writeup]"
   ]
  },
  {
   "cell_type": "code",
   "execution_count": null,
   "id": "4624e3e1",
   "metadata": {},
   "outputs": [],
   "source": [
    "# random forest code"
   ]
  },
  {
   "cell_type": "markdown",
   "id": "5fd81cc5",
   "metadata": {},
   "source": [
    "### 4) KNN model\n",
    "\n",
    "- description high level w figs (read articles / watch vids)\n",
    "- pros and cons in general and for this dataset\n",
    "\n",
    "[writeup]"
   ]
  },
  {
   "cell_type": "code",
   "execution_count": null,
   "id": "0b375ed8",
   "metadata": {},
   "outputs": [],
   "source": [
    "# KNN code"
   ]
  },
  {
   "cell_type": "markdown",
   "id": "0d7b42ca",
   "metadata": {},
   "source": [
    "### 5) Naive Bayes model\n",
    "\n",
    "- description high level w figs (read articles / watch vids)\n",
    "- pros and cons in general and for this dataset\n",
    "\n",
    "[writeup]"
   ]
  },
  {
   "cell_type": "code",
   "execution_count": 6,
   "id": "9e33f199",
   "metadata": {},
   "outputs": [],
   "source": [
    "# Naive Bayes code"
   ]
  },
  {
   "cell_type": "markdown",
   "id": "4e64785f",
   "metadata": {},
   "source": [
    "### 6) SVM model\n",
    "\n",
    "- description high level w figs (read articles / watch vids)\n",
    "- pros and cons in general and for this dataset\n",
    "\n",
    "[writeup]"
   ]
  },
  {
   "cell_type": "code",
   "execution_count": null,
   "id": "e9f8594a",
   "metadata": {},
   "outputs": [],
   "source": [
    "# SVM code"
   ]
  },
  {
   "cell_type": "markdown",
   "id": "b7b1d1c8",
   "metadata": {},
   "source": [
    "### 7) Gradient Boosting model\n",
    "\n",
    "- description high level w figs (read articles / watch vids)\n",
    "- pros and cons in general and for this dataset\n",
    "\n",
    "[writeup]"
   ]
  },
  {
   "cell_type": "code",
   "execution_count": null,
   "id": "088b03dd",
   "metadata": {},
   "outputs": [],
   "source": [
    "# Gradient Boosting code"
   ]
  },
  {
   "cell_type": "markdown",
   "id": "13f315ad",
   "metadata": {},
   "source": [
    "### 8) Perceptron model\n",
    "\n",
    "- description high level w figs (read articles / watch vids)\n",
    "- pros and cons in general and for this dataset\n",
    "\n",
    "[writeup]"
   ]
  },
  {
   "cell_type": "code",
   "execution_count": null,
   "id": "82e02a66",
   "metadata": {},
   "outputs": [],
   "source": [
    "# Perceptron code"
   ]
  },
  {
   "cell_type": "markdown",
   "id": "3698dc7e",
   "metadata": {},
   "source": [
    "### Final Evaluation\n",
    "\n",
    "- Confusion matrix, F1, ROC curve\n",
    "- Feature importance chart"
   ]
  },
  {
   "cell_type": "code",
   "execution_count": 5,
   "id": "439cc4fd",
   "metadata": {},
   "outputs": [],
   "source": [
    "# final eval"
   ]
  },
  {
   "cell_type": "markdown",
   "id": "421a0f75",
   "metadata": {},
   "source": [
    "[write up too]"
   ]
  },
  {
   "cell_type": "markdown",
   "id": "f69074a5",
   "metadata": {},
   "source": [
    "### Wrap-up\n",
    "- Final thoughts, takeaways\n",
    "- What you’d do next with more time/data\n",
    "- References or inspiration sources"
   ]
  },
  {
   "cell_type": "markdown",
   "id": "253721e6",
   "metadata": {},
   "source": [
    "[writeup]"
   ]
  },
  {
   "cell_type": "markdown",
   "id": "5a44ce6e",
   "metadata": {},
   "source": [
    "# References\n",
    "- Titanic - Machine Learning from Disaster [https://www.kaggle.com/competitions/titanic/data]\n",
    "- Titanic (wikipedia) [https://en.wikipedia.org/wiki/Titanic]"
   ]
  },
  {
   "cell_type": "markdown",
   "id": "8ae69482",
   "metadata": {},
   "source": []
  }
 ],
 "metadata": {
  "kernelspec": {
   "display_name": "base",
   "language": "python",
   "name": "python3"
  },
  "language_info": {
   "codemirror_mode": {
    "name": "ipython",
    "version": 3
   },
   "file_extension": ".py",
   "mimetype": "text/x-python",
   "name": "python",
   "nbconvert_exporter": "python",
   "pygments_lexer": "ipython3",
   "version": "3.10.6"
  }
 },
 "nbformat": 4,
 "nbformat_minor": 5
}
